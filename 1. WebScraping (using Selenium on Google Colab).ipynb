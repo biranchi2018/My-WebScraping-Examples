{
  "nbformat": 4,
  "nbformat_minor": 0,
  "metadata": {
    "colab": {
      "name": "WebScraping (Selenium on Google Colab).ipynb",
      "provenance": [],
      "collapsed_sections": [],
      "authorship_tag": "ABX9TyN2fltGy8cmjF1nYg7lGn0d",
      "include_colab_link": true
    },
    "kernelspec": {
      "name": "python3",
      "display_name": "Python 3"
    }
  },
  "cells": [
    {
      "cell_type": "markdown",
      "metadata": {
        "id": "view-in-github",
        "colab_type": "text"
      },
      "source": [
        "<a href=\"https://colab.research.google.com/github/biranchi2018/My-WebScraping-Examples/blob/master/1.%20WebScraping%20(using%20Selenium%20on%20Google%20Colab).ipynb\" target=\"_parent\"><img src=\"https://colab.research.google.com/assets/colab-badge.svg\" alt=\"Open In Colab\"/></a>"
      ]
    },
    {
      "cell_type": "code",
      "metadata": {
        "id": "6Bn8U8G5HLSY",
        "colab_type": "code",
        "colab": {
          "base_uri": "https://localhost:8080/",
          "height": 115
        },
        "outputId": "301d8c5d-f2e2-4f5d-a56c-35b7c5bfa276"
      },
      "source": [
        "!pip install selenium"
      ],
      "execution_count": 3,
      "outputs": [
        {
          "output_type": "stream",
          "text": [
            "Collecting selenium\n",
            "\u001b[?25l  Downloading https://files.pythonhosted.org/packages/80/d6/4294f0b4bce4de0abf13e17190289f9d0613b0a44e5dd6a7f5ca98459853/selenium-3.141.0-py2.py3-none-any.whl (904kB)\n",
            "\u001b[K     |████████████████████████████████| 911kB 2.7MB/s \n",
            "\u001b[?25hRequirement already satisfied: urllib3 in /usr/local/lib/python3.6/dist-packages (from selenium) (1.24.3)\n",
            "Installing collected packages: selenium\n",
            "Successfully installed selenium-3.141.0\n"
          ],
          "name": "stdout"
        }
      ]
    },
    {
      "cell_type": "code",
      "metadata": {
        "id": "H1LoM-1AHTRo",
        "colab_type": "code",
        "colab": {
          "base_uri": "https://localhost:8080/",
          "height": 1000
        },
        "outputId": "16e24d10-8e4a-4d8d-a60b-76c1e4e14887"
      },
      "source": [
        "!apt-get update # to update ubuntu to correctly run apt install\n",
        "!apt install chromium-chromedriver\n",
        "!cp /usr/lib/chromium-browser/chromedriver /usr/bin\n",
        "\n",
        "import sys\n",
        "sys.path.insert(0,'/usr/lib/chromium-browser/chromedriver')"
      ],
      "execution_count": 4,
      "outputs": [
        {
          "output_type": "stream",
          "text": [
            "\r0% [Working]\r            \rIgn:1 https://developer.download.nvidia.com/compute/cuda/repos/ubuntu1804/x86_64  InRelease\n",
            "\r0% [Waiting for headers] [Waiting for headers] [Connected to cloud.r-project.or\r                                                                               \rGet:2 http://security.ubuntu.com/ubuntu bionic-security InRelease [88.7 kB]\n",
            "\r0% [Waiting for headers] [2 InRelease 2,589 B/88.7 kB 3%] [Waiting for headers]\r                                                                               \rGet:3 https://cloud.r-project.org/bin/linux/ubuntu bionic-cran35/ InRelease [3,626 B]\n",
            "\r0% [Waiting for headers] [2 InRelease 14.2 kB/88.7 kB 16%] [3 InRelease 3,626 B\r0% [Waiting for headers] [2 InRelease 20.0 kB/88.7 kB 23%] [Waiting for headers\r0% [3 InRelease gpgv 3,626 B] [Waiting for headers] [2 InRelease 22.9 kB/88.7 k\r                                                                               \rGet:4 http://ppa.launchpad.net/graphics-drivers/ppa/ubuntu bionic InRelease [21.3 kB]\n",
            "\r0% [3 InRelease gpgv 3,626 B] [Waiting for headers] [2 InRelease 31.5 kB/88.7 k\r                                                                               \rIgn:5 https://developer.download.nvidia.com/compute/machine-learning/repos/ubuntu1804/x86_64  InRelease\n",
            "\r0% [3 InRelease gpgv 3,626 B] [Waiting for headers] [2 InRelease 40.2 kB/88.7 k\r                                                                               \rGet:6 https://developer.download.nvidia.com/compute/cuda/repos/ubuntu1804/x86_64  Release [697 B]\n",
            "\r0% [3 InRelease gpgv 3,626 B] [Waiting for headers] [2 InRelease 66.3 kB/88.7 k\r                                                                               \rHit:7 http://archive.ubuntu.com/ubuntu bionic InRelease\n",
            "\r0% [3 InRelease gpgv 3,626 B] [Waiting for headers] [2 InRelease 86.6 kB/88.7 k\r0% [3 InRelease gpgv 3,626 B] [Waiting for headers] [Waiting for headers] [4 In\r                                                                               \rHit:8 https://developer.download.nvidia.com/compute/machine-learning/repos/ubuntu1804/x86_64  Release\n",
            "\r0% [3 InRelease gpgv 3,626 B] [Waiting for headers] [4 InRelease 14.2 kB/21.3 k\r                                                                               \rGet:9 https://developer.download.nvidia.com/compute/cuda/repos/ubuntu1804/x86_64  Release.gpg [836 B]\n",
            "\r0% [3 InRelease gpgv 3,626 B] [Waiting for headers] [4 InRelease 14.2 kB/21.3 k\r0% [3 InRelease gpgv 3,626 B] [Waiting for headers] [Connecting to ppa.launchpa\r                                                                               \rGet:10 http://archive.ubuntu.com/ubuntu bionic-updates InRelease [88.7 kB]\n",
            "Get:11 http://ppa.launchpad.net/marutter/c2d4u3.5/ubuntu bionic InRelease [15.4 kB]\n",
            "Get:12 http://archive.ubuntu.com/ubuntu bionic-backports InRelease [74.6 kB]\n",
            "Get:13 http://security.ubuntu.com/ubuntu bionic-security/universe amd64 Packages [861 kB]\n",
            "Get:14 http://security.ubuntu.com/ubuntu bionic-security/main amd64 Packages [958 kB]\n",
            "Get:15 http://security.ubuntu.com/ubuntu bionic-security/multiverse amd64 Packages [9,092 B]\n",
            "Get:16 http://security.ubuntu.com/ubuntu bionic-security/restricted amd64 Packages [66.4 kB]\n",
            "Ign:18 https://developer.download.nvidia.com/compute/cuda/repos/ubuntu1804/x86_64  Packages\n",
            "Get:18 https://developer.download.nvidia.com/compute/cuda/repos/ubuntu1804/x86_64  Packages [162 kB]\n",
            "Get:19 http://ppa.launchpad.net/graphics-drivers/ppa/ubuntu bionic/main amd64 Packages [37.4 kB]\n",
            "Get:20 http://archive.ubuntu.com/ubuntu bionic-updates/universe amd64 Packages [1,392 kB]\n",
            "Get:21 http://ppa.launchpad.net/marutter/c2d4u3.5/ubuntu bionic/main Sources [1,832 kB]\n",
            "Get:22 http://archive.ubuntu.com/ubuntu bionic-updates/multiverse amd64 Packages [20.3 kB]\n",
            "Get:23 http://archive.ubuntu.com/ubuntu bionic-updates/main amd64 Packages [1,253 kB]\n",
            "Get:24 http://archive.ubuntu.com/ubuntu bionic-updates/restricted amd64 Packages [80.7 kB]\n",
            "Get:25 http://ppa.launchpad.net/marutter/c2d4u3.5/ubuntu bionic/main amd64 Packages [883 kB]\n",
            "Fetched 7,849 kB in 3s (2,306 kB/s)\n",
            "Reading package lists... Done\n",
            "Reading package lists... Done\n",
            "Building dependency tree       \n",
            "Reading state information... Done\n",
            "The following additional packages will be installed:\n",
            "  chromium-browser chromium-browser-l10n chromium-codecs-ffmpeg-extra\n",
            "Suggested packages:\n",
            "  webaccounts-chromium-extension unity-chromium-extension adobe-flashplugin\n",
            "The following NEW packages will be installed:\n",
            "  chromium-browser chromium-browser-l10n chromium-chromedriver\n",
            "  chromium-codecs-ffmpeg-extra\n",
            "0 upgraded, 4 newly installed, 0 to remove and 70 not upgraded.\n",
            "Need to get 75.5 MB of archives.\n",
            "After this operation, 256 MB of additional disk space will be used.\n",
            "Get:1 http://archive.ubuntu.com/ubuntu bionic-updates/universe amd64 chromium-codecs-ffmpeg-extra amd64 83.0.4103.61-0ubuntu0.18.04.1 [1,119 kB]\n",
            "Get:2 http://archive.ubuntu.com/ubuntu bionic-updates/universe amd64 chromium-browser amd64 83.0.4103.61-0ubuntu0.18.04.1 [66.7 MB]\n",
            "Get:3 http://archive.ubuntu.com/ubuntu bionic-updates/universe amd64 chromium-browser-l10n all 83.0.4103.61-0ubuntu0.18.04.1 [3,378 kB]\n",
            "Get:4 http://archive.ubuntu.com/ubuntu bionic-updates/universe amd64 chromium-chromedriver amd64 83.0.4103.61-0ubuntu0.18.04.1 [4,294 kB]\n",
            "Fetched 75.5 MB in 3s (24.0 MB/s)\n",
            "Selecting previously unselected package chromium-codecs-ffmpeg-extra.\n",
            "(Reading database ... 144467 files and directories currently installed.)\n",
            "Preparing to unpack .../chromium-codecs-ffmpeg-extra_83.0.4103.61-0ubuntu0.18.04.1_amd64.deb ...\n",
            "Unpacking chromium-codecs-ffmpeg-extra (83.0.4103.61-0ubuntu0.18.04.1) ...\n",
            "Selecting previously unselected package chromium-browser.\n",
            "Preparing to unpack .../chromium-browser_83.0.4103.61-0ubuntu0.18.04.1_amd64.deb ...\n",
            "Unpacking chromium-browser (83.0.4103.61-0ubuntu0.18.04.1) ...\n",
            "Selecting previously unselected package chromium-browser-l10n.\n",
            "Preparing to unpack .../chromium-browser-l10n_83.0.4103.61-0ubuntu0.18.04.1_all.deb ...\n",
            "Unpacking chromium-browser-l10n (83.0.4103.61-0ubuntu0.18.04.1) ...\n",
            "Selecting previously unselected package chromium-chromedriver.\n",
            "Preparing to unpack .../chromium-chromedriver_83.0.4103.61-0ubuntu0.18.04.1_amd64.deb ...\n",
            "Unpacking chromium-chromedriver (83.0.4103.61-0ubuntu0.18.04.1) ...\n",
            "Setting up chromium-codecs-ffmpeg-extra (83.0.4103.61-0ubuntu0.18.04.1) ...\n",
            "Setting up chromium-browser (83.0.4103.61-0ubuntu0.18.04.1) ...\n",
            "update-alternatives: using /usr/bin/chromium-browser to provide /usr/bin/x-www-browser (x-www-browser) in auto mode\n",
            "update-alternatives: using /usr/bin/chromium-browser to provide /usr/bin/gnome-www-browser (gnome-www-browser) in auto mode\n",
            "Setting up chromium-chromedriver (83.0.4103.61-0ubuntu0.18.04.1) ...\n",
            "Setting up chromium-browser-l10n (83.0.4103.61-0ubuntu0.18.04.1) ...\n",
            "Processing triggers for hicolor-icon-theme (0.17-2) ...\n",
            "Processing triggers for mime-support (3.60ubuntu1) ...\n",
            "Processing triggers for man-db (2.8.3-2ubuntu0.1) ...\n",
            "cp: '/usr/lib/chromium-browser/chromedriver' and '/usr/bin/chromedriver' are the same file\n"
          ],
          "name": "stdout"
        }
      ]
    },
    {
      "cell_type": "code",
      "metadata": {
        "id": "-yD-96-eHvxF",
        "colab_type": "code",
        "colab": {}
      },
      "source": [
        "from selenium import webdriver\n",
        "chrome_options = webdriver.ChromeOptions()\n",
        "chrome_options.add_argument('--headless')\n",
        "chrome_options.add_argument('--no-sandbox')\n",
        "chrome_options.add_argument('--disable-dev-shm-usage')"
      ],
      "execution_count": 0,
      "outputs": []
    },
    {
      "cell_type": "code",
      "metadata": {
        "id": "mwmpi52cHpxx",
        "colab_type": "code",
        "colab": {}
      },
      "source": [
        "driver = webdriver.Chrome('chromedriver',options=chrome_options)\n",
        "driver.get(\"https://www.goibibo.com/hotels/hotels-in-shimla-ct/\")"
      ],
      "execution_count": 0,
      "outputs": []
    },
    {
      "cell_type": "code",
      "metadata": {
        "id": "S8SsqDJ9HTUb",
        "colab_type": "code",
        "colab": {
          "base_uri": "https://localhost:8080/",
          "height": 33
        },
        "outputId": "c0fb6837-4624-463c-f169-142f23b282b0"
      },
      "source": [
        "div = driver.find_element_by_class_name(\"HotelCardstyles__HotelNameWrapperDiv-sc-1s80tyk-14\")\n",
        "div"
      ],
      "execution_count": 16,
      "outputs": [
        {
          "output_type": "execute_result",
          "data": {
            "text/plain": [
              "<selenium.webdriver.remote.webelement.WebElement (session=\"31c2c35aa26af9967a5320c90b4feb3a\", element=\"6dcfe58d-5165-4d33-8705-0cfca5ec660c\")>"
            ]
          },
          "metadata": {
            "tags": []
          },
          "execution_count": 16
        }
      ]
    },
    {
      "cell_type": "code",
      "metadata": {
        "id": "dlPxbpY2ONn5",
        "colab_type": "code",
        "colab": {
          "base_uri": "https://localhost:8080/",
          "height": 53
        },
        "outputId": "34c4bb26-1f8a-4ecb-ca08-4413a9527cfb"
      },
      "source": [
        "div.get_attribute(\"innerHTML\")"
      ],
      "execution_count": 20,
      "outputs": [
        {
          "output_type": "execute_result",
          "data": {
            "text/plain": [
              "'<a itemprop=\"name\" content=\"Summit Thistle Villa Resort &amp; Spa\" target=\"_blank\" href=\"/hotels/summit-thistle-villa-resort-spa-hotel-in-shimla-3839912992465323263/?hquery={&quot;ci&quot;:&quot;20200619&quot;,&quot;co&quot;:&quot;20200620&quot;,&quot;r&quot;:&quot;1-2-0&quot;,&quot;ibp&quot;:&quot;v3&quot;}&amp;hmd=262c0143578934c7ba30c0b9a5b3b662fae49e01a5651b07e2afe4593aa296cdcc69398a5c3283f34d5abf5f981ce927dbf0438f1cc56837036dcd8e0287c84265a2df73d674e1337113f1b84e62f0cbd97e45230d2a70646b2a60630ccd5fff18942bcea467e2d48e61ff8244ba1ba3eac37ce55de48644e8ec5387114d10e772f22b164e87b70cb1614eac3d777f96b508b1df790b1a160328a97170f8e08f58507479a3b88dc490d05dda31dde5e3c132488cb809ac761d274e1a738336ecae19dfaca1df90bb8583090a57bb528ab3b9de503bd898163bcb8273df6f01f382cfdf6167906bde30785a&amp;cc=IN\" class=\"HotelCardstyles__HotelNameSeoAnchor-sc-1s80tyk-16 hSmjVP\">Summit Thistle Villa Resort &amp; Spa</a>'"
            ]
          },
          "metadata": {
            "tags": []
          },
          "execution_count": 20
        }
      ]
    },
    {
      "cell_type": "markdown",
      "metadata": {
        "id": "tAcMp8JUOz0r",
        "colab_type": "text"
      },
      "source": [
        "## Hotel Names"
      ]
    },
    {
      "cell_type": "code",
      "metadata": {
        "id": "lLX9-bUPNycL",
        "colab_type": "code",
        "colab": {
          "base_uri": "https://localhost:8080/",
          "height": 180
        },
        "outputId": "280958fc-c66e-4cde-abae-ab4aebe2201c"
      },
      "source": [
        "hotel_names = driver.find_elements_by_class_name(\"HotelCardstyles__HotelNameWrapperDiv-sc-1s80tyk-14\")\n",
        "hotel_names"
      ],
      "execution_count": 23,
      "outputs": [
        {
          "output_type": "execute_result",
          "data": {
            "text/plain": [
              "[<selenium.webdriver.remote.webelement.WebElement (session=\"31c2c35aa26af9967a5320c90b4feb3a\", element=\"6dcfe58d-5165-4d33-8705-0cfca5ec660c\")>,\n",
              " <selenium.webdriver.remote.webelement.WebElement (session=\"31c2c35aa26af9967a5320c90b4feb3a\", element=\"93795b72-a907-4f36-8ae1-0acb07396c58\")>,\n",
              " <selenium.webdriver.remote.webelement.WebElement (session=\"31c2c35aa26af9967a5320c90b4feb3a\", element=\"e546157a-944f-43aa-b384-b88f0ffc11a0\")>,\n",
              " <selenium.webdriver.remote.webelement.WebElement (session=\"31c2c35aa26af9967a5320c90b4feb3a\", element=\"c754fc76-5e08-45e5-be50-0452b1de8e11\")>,\n",
              " <selenium.webdriver.remote.webelement.WebElement (session=\"31c2c35aa26af9967a5320c90b4feb3a\", element=\"248bc0e1-0f99-4ff0-a50f-793443a6baf2\")>,\n",
              " <selenium.webdriver.remote.webelement.WebElement (session=\"31c2c35aa26af9967a5320c90b4feb3a\", element=\"43f2dd3c-dfa3-48c6-9bde-f55864ce5759\")>,\n",
              " <selenium.webdriver.remote.webelement.WebElement (session=\"31c2c35aa26af9967a5320c90b4feb3a\", element=\"0acc950d-bf11-4e81-bfb8-50d0b867a547\")>,\n",
              " <selenium.webdriver.remote.webelement.WebElement (session=\"31c2c35aa26af9967a5320c90b4feb3a\", element=\"e239d5b2-1050-44f2-b76d-252862adbc30\")>,\n",
              " <selenium.webdriver.remote.webelement.WebElement (session=\"31c2c35aa26af9967a5320c90b4feb3a\", element=\"db24c9f2-4d60-4a67-9b38-8f58fc9b155a\")>,\n",
              " <selenium.webdriver.remote.webelement.WebElement (session=\"31c2c35aa26af9967a5320c90b4feb3a\", element=\"cde17c3a-0e05-4dea-80f8-82f992e0e3b1\")>]"
            ]
          },
          "metadata": {
            "tags": []
          },
          "execution_count": 23
        }
      ]
    },
    {
      "cell_type": "code",
      "metadata": {
        "id": "2IxtRjH1H6Ln",
        "colab_type": "code",
        "colab": {
          "base_uri": "https://localhost:8080/",
          "height": 180
        },
        "outputId": "fb775cb1-814a-4e43-a8f8-ae42b2479b42"
      },
      "source": [
        "for hotel_name in hotel_names:\n",
        "  print(hotel_name.text)"
      ],
      "execution_count": 24,
      "outputs": [
        {
          "output_type": "stream",
          "text": [
            "Summit Thistle Villa Resort & Spa\n",
            "MAHASU HOUSE\n",
            "Summit Le Royale\n",
            "Ashiana Clarks INN Shimla\n",
            "Nishal Homestay\n",
            "Woodsmoke Resort and Spa\n",
            "L R Heights Home Stay\n",
            "Alpine Holiday Homes\n",
            "Radisson Jass Shimla\n",
            "Silver Oak Cottage\n"
          ],
          "name": "stdout"
        }
      ]
    },
    {
      "cell_type": "markdown",
      "metadata": {
        "id": "ri_tht9GO2Xp",
        "colab_type": "text"
      },
      "source": [
        "## Hotel Prices"
      ]
    },
    {
      "cell_type": "code",
      "metadata": {
        "id": "CyeK6YF-H6O1",
        "colab_type": "code",
        "colab": {
          "base_uri": "https://localhost:8080/",
          "height": 180
        },
        "outputId": "bed1d59b-f408-4ce2-c703-cdc270b86916"
      },
      "source": [
        "hotel_prices = driver.find_elements_by_class_name(\"HotelCardstyles__CurrentPrice-sc-1s80tyk-34\")\n",
        "hotel_prices"
      ],
      "execution_count": 26,
      "outputs": [
        {
          "output_type": "execute_result",
          "data": {
            "text/plain": [
              "[<selenium.webdriver.remote.webelement.WebElement (session=\"31c2c35aa26af9967a5320c90b4feb3a\", element=\"5edb32e3-4fc1-4dda-b77d-7bc3660987a5\")>,\n",
              " <selenium.webdriver.remote.webelement.WebElement (session=\"31c2c35aa26af9967a5320c90b4feb3a\", element=\"76f43913-eeeb-4c98-b588-2f054db5f5d0\")>,\n",
              " <selenium.webdriver.remote.webelement.WebElement (session=\"31c2c35aa26af9967a5320c90b4feb3a\", element=\"1eafe0da-b9e3-449a-83da-02cb1e3ada19\")>,\n",
              " <selenium.webdriver.remote.webelement.WebElement (session=\"31c2c35aa26af9967a5320c90b4feb3a\", element=\"96972e3d-9ead-4d59-ace7-eab68dbe9ca2\")>,\n",
              " <selenium.webdriver.remote.webelement.WebElement (session=\"31c2c35aa26af9967a5320c90b4feb3a\", element=\"9bfa1c0f-b49b-4307-868a-5d593e32825d\")>,\n",
              " <selenium.webdriver.remote.webelement.WebElement (session=\"31c2c35aa26af9967a5320c90b4feb3a\", element=\"eb4e78cc-e993-4c37-99f4-9d9965cdf578\")>,\n",
              " <selenium.webdriver.remote.webelement.WebElement (session=\"31c2c35aa26af9967a5320c90b4feb3a\", element=\"e83c0551-820b-40f8-afaa-2efc18934cba\")>,\n",
              " <selenium.webdriver.remote.webelement.WebElement (session=\"31c2c35aa26af9967a5320c90b4feb3a\", element=\"81e5c0f4-f415-439f-87ea-b916f2cf59a6\")>,\n",
              " <selenium.webdriver.remote.webelement.WebElement (session=\"31c2c35aa26af9967a5320c90b4feb3a\", element=\"2a14528b-2ba2-42fd-8ec0-0afd30392f7f\")>,\n",
              " <selenium.webdriver.remote.webelement.WebElement (session=\"31c2c35aa26af9967a5320c90b4feb3a\", element=\"6bc9c046-8bd5-4364-910f-cfc4357ea129\")>]"
            ]
          },
          "metadata": {
            "tags": []
          },
          "execution_count": 26
        }
      ]
    },
    {
      "cell_type": "code",
      "metadata": {
        "id": "vKEmynJxH6ST",
        "colab_type": "code",
        "colab": {
          "base_uri": "https://localhost:8080/",
          "height": 180
        },
        "outputId": "4e89c2d7-b45c-4ae4-bf3a-7a43dcb35f95"
      },
      "source": [
        "for hotel_price in hotel_prices:\n",
        "  print(hotel_price.text)"
      ],
      "execution_count": 27,
      "outputs": [
        {
          "output_type": "stream",
          "text": [
            "4834\n",
            "9000\n",
            "3823\n",
            "4309\n",
            "813\n",
            "5040\n",
            "2606\n",
            "1507\n",
            "8000\n",
            "2495\n"
          ],
          "name": "stdout"
        }
      ]
    },
    {
      "cell_type": "code",
      "metadata": {
        "id": "k-g0kFwnO4dx",
        "colab_type": "code",
        "colab": {}
      },
      "source": [
        ""
      ],
      "execution_count": 0,
      "outputs": []
    },
    {
      "cell_type": "markdown",
      "metadata": {
        "id": "Mv18QcafPATO",
        "colab_type": "text"
      },
      "source": [
        "## Hotels Data"
      ]
    },
    {
      "cell_type": "code",
      "metadata": {
        "id": "6oqyYCtGO4gr",
        "colab_type": "code",
        "colab": {}
      },
      "source": [
        "hotels_arr = []\n",
        "for hotel_name, hotel_price in zip(hotel_names, hotel_prices):\n",
        "  hotel_dict = {}\n",
        "  hotel_dict['name'] = hotel_name.text\n",
        "  hotel_dict['price'] = hotel_price.text\n",
        "  hotels_arr.append(hotel_dict)"
      ],
      "execution_count": 0,
      "outputs": []
    },
    {
      "cell_type": "code",
      "metadata": {
        "id": "zb4g_TEOPCJS",
        "colab_type": "code",
        "colab": {
          "base_uri": "https://localhost:8080/",
          "height": 180
        },
        "outputId": "cebef807-b3c8-4f7a-af46-a166d4e1da34"
      },
      "source": [
        "hotels_arr"
      ],
      "execution_count": 31,
      "outputs": [
        {
          "output_type": "execute_result",
          "data": {
            "text/plain": [
              "[{'name': 'Summit Thistle Villa Resort & Spa', 'price': '4834'},\n",
              " {'name': 'MAHASU HOUSE', 'price': '9000'},\n",
              " {'name': 'Summit Le Royale', 'price': '3823'},\n",
              " {'name': 'Ashiana Clarks INN Shimla', 'price': '4309'},\n",
              " {'name': 'Nishal Homestay', 'price': '813'},\n",
              " {'name': 'Woodsmoke Resort and Spa', 'price': '5040'},\n",
              " {'name': 'L R Heights Home Stay', 'price': '2606'},\n",
              " {'name': 'Alpine Holiday Homes', 'price': '1507'},\n",
              " {'name': 'Radisson Jass Shimla', 'price': '8000'},\n",
              " {'name': 'Silver Oak Cottage', 'price': '2495'}]"
            ]
          },
          "metadata": {
            "tags": []
          },
          "execution_count": 31
        }
      ]
    },
    {
      "cell_type": "code",
      "metadata": {
        "id": "71f8OmLhPCMM",
        "colab_type": "code",
        "colab": {
          "base_uri": "https://localhost:8080/",
          "height": 53
        },
        "outputId": "796445aa-0078-40d8-c44c-352b739f7871"
      },
      "source": [
        "'''\n",
        "[{'name': 'Summit Thistle Villa Resort & Spa', 'price': '4834'},\n",
        " {'name': 'MAHASU HOUSE', 'price': '9000'},\n",
        " {'name': 'Summit Le Royale', 'price': '3823'},\n",
        " {'name': 'Ashiana Clarks INN Shimla', 'price': '4309'},\n",
        " {'name': 'Nishal Homestay', 'price': '813'},\n",
        " {'name': 'Woodsmoke Resort and Spa', 'price': '5040'},\n",
        " {'name': 'L R Heights Home Stay', 'price': '2606'},\n",
        " {'name': 'Alpine Holiday Homes', 'price': '1507'},\n",
        " {'name': 'Radisson Jass Shimla', 'price': '8000'},\n",
        " {'name': 'Silver Oak Cottage', 'price': '2495'},\n",
        " {'name': 'Alpine Holiday Homes', 'price': '1507'},\n",
        " {'name': 'Radisson Jass Shimla', 'price': '8000'},\n",
        " {'name': 'Silver Oak Cottage', 'price': '2495'}]\n",
        " '''"
      ],
      "execution_count": 69,
      "outputs": [
        {
          "output_type": "execute_result",
          "data": {
            "text/plain": [
              "\"\\n[{'name': 'Summit Thistle Villa Resort & Spa', 'price': '4834'},\\n {'name': 'MAHASU HOUSE', 'price': '9000'},\\n {'name': 'Summit Le Royale', 'price': '3823'},\\n {'name': 'Ashiana Clarks INN Shimla', 'price': '4309'},\\n {'name': 'Nishal Homestay', 'price': '813'},\\n {'name': 'Woodsmoke Resort and Spa', 'price': '5040'},\\n {'name': 'L R Heights Home Stay', 'price': '2606'},\\n {'name': 'Alpine Holiday Homes', 'price': '1507'},\\n {'name': 'Radisson Jass Shimla', 'price': '8000'},\\n {'name': 'Silver Oak Cottage', 'price': '2495'},\\n {'name': 'Alpine Holiday Homes', 'price': '1507'},\\n {'name': 'Radisson Jass Shimla', 'price': '8000'},\\n {'name': 'Silver Oak Cottage', 'price': '2495'}]\\n \""
            ]
          },
          "metadata": {
            "tags": []
          },
          "execution_count": 69
        }
      ]
    },
    {
      "cell_type": "code",
      "metadata": {
        "id": "Ypjdj_SYSGid",
        "colab_type": "code",
        "colab": {}
      },
      "source": [
        ""
      ],
      "execution_count": 0,
      "outputs": []
    },
    {
      "cell_type": "code",
      "metadata": {
        "id": "vqHf5FZOSGmd",
        "colab_type": "code",
        "colab": {}
      },
      "source": [
        ""
      ],
      "execution_count": 0,
      "outputs": []
    },
    {
      "cell_type": "markdown",
      "metadata": {
        "id": "0dFWi_R5RnGq",
        "colab_type": "text"
      },
      "source": [
        "## View more hotels button"
      ]
    },
    {
      "cell_type": "code",
      "metadata": {
        "id": "PPdMGIwhWxbb",
        "colab_type": "code",
        "colab": {}
      },
      "source": [
        "import time"
      ],
      "execution_count": 0,
      "outputs": []
    },
    {
      "cell_type": "code",
      "metadata": {
        "id": "gzGgC-vBPCPp",
        "colab_type": "code",
        "colab": {
          "base_uri": "https://localhost:8080/",
          "height": 66
        },
        "outputId": "5aad0051-30aa-4b02-f9a3-a0613d1ceb41"
      },
      "source": [
        "try:\n",
        "  view_more_hotels_button = driver.find_element_by_class_name(\"HotelList__ViewMoreHotelsWrap-vldqlv-0\")\n",
        "  if view_more_hotels_button is not None:\n",
        "    view_more_hotels_button.click()\n",
        "    time.sleep(3)  \n",
        "except Exception as e:\n",
        "  print(f'Exception : {str(e)}')"
      ],
      "execution_count": 68,
      "outputs": [
        {
          "output_type": "stream",
          "text": [
            "Exception : Message: no such element: Unable to locate element: {\"method\":\"css selector\",\"selector\":\".HotelList__ViewMoreHotelsWrap-vldqlv-0\"}\n",
            "  (Session info: headless chrome=83.0.4103.61)\n",
            "\n"
          ],
          "name": "stdout"
        }
      ]
    },
    {
      "cell_type": "code",
      "metadata": {
        "id": "TvvgPZO1O4mF",
        "colab_type": "code",
        "colab": {}
      },
      "source": [
        "# view_more_hotels_button.click()"
      ],
      "execution_count": 0,
      "outputs": []
    },
    {
      "cell_type": "code",
      "metadata": {
        "id": "AbTwirLxO4ke",
        "colab_type": "code",
        "colab": {}
      },
      "source": [
        ""
      ],
      "execution_count": 0,
      "outputs": []
    },
    {
      "cell_type": "markdown",
      "metadata": {
        "id": "tyUqS5PbRqRE",
        "colab_type": "text"
      },
      "source": [
        "## More hotels data"
      ]
    },
    {
      "cell_type": "code",
      "metadata": {
        "id": "k06COdpARbxz",
        "colab_type": "code",
        "colab": {
          "base_uri": "https://localhost:8080/",
          "height": 66
        },
        "outputId": "02251cc7-e9d3-4a7e-9d9c-eee19661d909"
      },
      "source": [
        "# \"HotelCardstyles__HeadingDiv-sc-1s80tyk-10\"\n",
        "hotel_names2 = driver.find_elements_by_class_name(\"HotelCardstyles__HotelNameSeoAnchor-sc-1s80tyk-16\")\n",
        "hotel_names2"
      ],
      "execution_count": 53,
      "outputs": [
        {
          "output_type": "execute_result",
          "data": {
            "text/plain": [
              "[<selenium.webdriver.remote.webelement.WebElement (session=\"31c2c35aa26af9967a5320c90b4feb3a\", element=\"6aaf44b1-5ed5-428d-b2bf-1240c446bf92\")>,\n",
              " <selenium.webdriver.remote.webelement.WebElement (session=\"31c2c35aa26af9967a5320c90b4feb3a\", element=\"8602e343-e75c-4921-af42-d3980f1178da\")>,\n",
              " <selenium.webdriver.remote.webelement.WebElement (session=\"31c2c35aa26af9967a5320c90b4feb3a\", element=\"5c50731f-b114-4b12-8334-1bae9501a565\")>]"
            ]
          },
          "metadata": {
            "tags": []
          },
          "execution_count": 53
        }
      ]
    },
    {
      "cell_type": "code",
      "metadata": {
        "id": "l2zeB8drRb6s",
        "colab_type": "code",
        "colab": {
          "base_uri": "https://localhost:8080/",
          "height": 66
        },
        "outputId": "0f260f20-5de6-4e6c-bc17-9ebabb3318d3"
      },
      "source": [
        "for hotel_name in hotel_names2:\n",
        "  print(hotel_name.text)"
      ],
      "execution_count": 54,
      "outputs": [
        {
          "output_type": "stream",
          "text": [
            "Alpine Holiday Homes\n",
            "Radisson Jass Shimla\n",
            "Silver Oak Cottage\n"
          ],
          "name": "stdout"
        }
      ]
    },
    {
      "cell_type": "code",
      "metadata": {
        "id": "ODnkJcnZRb-z",
        "colab_type": "code",
        "colab": {}
      },
      "source": [
        ""
      ],
      "execution_count": 0,
      "outputs": []
    },
    {
      "cell_type": "code",
      "metadata": {
        "id": "TrhqEocgRwiB",
        "colab_type": "code",
        "colab": {
          "base_uri": "https://localhost:8080/",
          "height": 66
        },
        "outputId": "bf9b69ca-44fc-4f53-ecfa-a1145c7f3ff0"
      },
      "source": [
        "hotel_prices2 = driver.find_elements_by_class_name(\"HotelCardstyles__CurrentPrice-sc-1s80tyk-34\")\n",
        "hotel_prices2"
      ],
      "execution_count": 55,
      "outputs": [
        {
          "output_type": "execute_result",
          "data": {
            "text/plain": [
              "[<selenium.webdriver.remote.webelement.WebElement (session=\"31c2c35aa26af9967a5320c90b4feb3a\", element=\"1a605e98-f0c1-4f9e-81d3-2ab6d2356785\")>,\n",
              " <selenium.webdriver.remote.webelement.WebElement (session=\"31c2c35aa26af9967a5320c90b4feb3a\", element=\"683b6864-a7f5-42e1-8e26-1258e5de79b2\")>,\n",
              " <selenium.webdriver.remote.webelement.WebElement (session=\"31c2c35aa26af9967a5320c90b4feb3a\", element=\"cab587e6-c32f-46ea-be51-21be454046a2\")>]"
            ]
          },
          "metadata": {
            "tags": []
          },
          "execution_count": 55
        }
      ]
    },
    {
      "cell_type": "code",
      "metadata": {
        "id": "UaVQ8s-lRwoX",
        "colab_type": "code",
        "colab": {
          "base_uri": "https://localhost:8080/",
          "height": 66
        },
        "outputId": "947c43c0-0563-40ca-917c-6615d99ad01d"
      },
      "source": [
        "for hotel_price in hotel_prices2:\n",
        "  print(hotel_price.text)"
      ],
      "execution_count": 56,
      "outputs": [
        {
          "output_type": "stream",
          "text": [
            "1507\n",
            "8000\n",
            "2495\n"
          ],
          "name": "stdout"
        }
      ]
    },
    {
      "cell_type": "code",
      "metadata": {
        "id": "R--RntFORwuU",
        "colab_type": "code",
        "colab": {}
      },
      "source": [
        ""
      ],
      "execution_count": 0,
      "outputs": []
    },
    {
      "cell_type": "code",
      "metadata": {
        "id": "FJTUFP6UR3At",
        "colab_type": "code",
        "colab": {}
      },
      "source": [
        "for hotel_name, hotel_price in zip(hotel_names2, hotel_prices2):\n",
        "  hotel_dict = {}\n",
        "  hotel_dict['name'] = hotel_name.text\n",
        "  hotel_dict['price'] = hotel_price.text\n",
        "  hotels_arr.append(hotel_dict)"
      ],
      "execution_count": 0,
      "outputs": []
    },
    {
      "cell_type": "code",
      "metadata": {
        "id": "CCxnEHF0R3ER",
        "colab_type": "code",
        "colab": {
          "base_uri": "https://localhost:8080/",
          "height": 326
        },
        "outputId": "4c8801ab-b11d-43d5-efc2-1effb3646335"
      },
      "source": [
        "hotels_arr"
      ],
      "execution_count": 58,
      "outputs": [
        {
          "output_type": "execute_result",
          "data": {
            "text/plain": [
              "[{'name': 'Summit Thistle Villa Resort & Spa', 'price': '4834'},\n",
              " {'name': 'MAHASU HOUSE', 'price': '9000'},\n",
              " {'name': 'Summit Le Royale', 'price': '3823'},\n",
              " {'name': 'Ashiana Clarks INN Shimla', 'price': '4309'},\n",
              " {'name': 'Nishal Homestay', 'price': '813'},\n",
              " {'name': 'Woodsmoke Resort and Spa', 'price': '5040'},\n",
              " {'name': 'L R Heights Home Stay', 'price': '2606'},\n",
              " {'name': 'Alpine Holiday Homes', 'price': '1507'},\n",
              " {'name': 'Radisson Jass Shimla', 'price': '8000'},\n",
              " {'name': 'Silver Oak Cottage', 'price': '2495'},\n",
              " {'name': 'Alpine Holiday Homes', 'price': '1507'},\n",
              " {'name': 'Radisson Jass Shimla', 'price': '8000'},\n",
              " {'name': 'Silver Oak Cottage', 'price': '2495'},\n",
              " {'name': 'BNB\\n15 Reviews\\n3.3 / 5', 'price': '1507'},\n",
              " {'name': 'HOTEL\\n276 Reviews\\n4.4 / 5', 'price': '8000'},\n",
              " {'name': 'HOMESTAY\\n15 Reviews\\n4.1 / 5', 'price': '2495'},\n",
              " {'name': 'Alpine Holiday Homes', 'price': '1507'},\n",
              " {'name': 'Radisson Jass Shimla', 'price': '8000'},\n",
              " {'name': 'Silver Oak Cottage', 'price': '2495'}]"
            ]
          },
          "metadata": {
            "tags": []
          },
          "execution_count": 58
        }
      ]
    },
    {
      "cell_type": "code",
      "metadata": {
        "id": "nUspuT5HR3HN",
        "colab_type": "code",
        "colab": {}
      },
      "source": [
        ""
      ],
      "execution_count": 0,
      "outputs": []
    },
    {
      "cell_type": "code",
      "metadata": {
        "id": "CdE4wyczRw0V",
        "colab_type": "code",
        "colab": {}
      },
      "source": [
        ""
      ],
      "execution_count": 0,
      "outputs": []
    },
    {
      "cell_type": "code",
      "metadata": {
        "id": "SxsgPnilRwzF",
        "colab_type": "code",
        "colab": {}
      },
      "source": [
        ""
      ],
      "execution_count": 0,
      "outputs": []
    },
    {
      "cell_type": "code",
      "metadata": {
        "id": "9cYsDkFVRwsm",
        "colab_type": "code",
        "colab": {}
      },
      "source": [
        ""
      ],
      "execution_count": 0,
      "outputs": []
    },
    {
      "cell_type": "code",
      "metadata": {
        "id": "Hpcka2tbRwmm",
        "colab_type": "code",
        "colab": {}
      },
      "source": [
        ""
      ],
      "execution_count": 0,
      "outputs": []
    },
    {
      "cell_type": "code",
      "metadata": {
        "id": "bdQ3DqeQRb4r",
        "colab_type": "code",
        "colab": {}
      },
      "source": [
        ""
      ],
      "execution_count": 0,
      "outputs": []
    },
    {
      "cell_type": "code",
      "metadata": {
        "id": "clmm2vt_Rb2e",
        "colab_type": "code",
        "colab": {}
      },
      "source": [
        ""
      ],
      "execution_count": 0,
      "outputs": []
    },
    {
      "cell_type": "code",
      "metadata": {
        "id": "6ve3kedFPl-o",
        "colab_type": "code",
        "colab": {}
      },
      "source": [
        ""
      ],
      "execution_count": 0,
      "outputs": []
    },
    {
      "cell_type": "code",
      "metadata": {
        "id": "GHkSvL2dPmB5",
        "colab_type": "code",
        "colab": {}
      },
      "source": [
        ""
      ],
      "execution_count": 0,
      "outputs": []
    },
    {
      "cell_type": "markdown",
      "metadata": {
        "id": "YK_Li2AWPmuG",
        "colab_type": "text"
      },
      "source": [
        "## WebScraping using Requests (Access Denied)"
      ]
    },
    {
      "cell_type": "code",
      "metadata": {
        "id": "W6pJVCRlGMlb",
        "colab_type": "code",
        "colab": {
          "base_uri": "https://localhost:8080/",
          "height": 196
        },
        "outputId": "e566392e-3f82-4bd2-d5d1-48eb00041226"
      },
      "source": [
        "import requests\n",
        "from bs4 import BeautifulSoup\n",
        "\n",
        "# target URL\n",
        "url = \"https://www.goibibo.com/hotels/hotels-in-shimla-ct/\"\n",
        "\n",
        "headers = {\n",
        "    'User-Agent': \"Mozilla/5.0 (X11; Linux x86_64) AppleWebKit/537.36 (KHTML, like Gecko) Chrome/77.0.3865.90 Safari/537.36\"\n",
        "    }\n",
        "\n",
        "response = requests.request(\"GET\", url, headers=headers)\n",
        "print(f'response.text: {response.text}')\n",
        "\n",
        "data = BeautifulSoup(response.text, 'html.parser')\n",
        "\n",
        "# find all with the image tag\n",
        "images = data.find_all('img', src=True)\n",
        "\n",
        "print('Number of Images: ', len(images))\n",
        "\n",
        "for image in images:\n",
        "    print(image)\n",
        "\n",
        "\n",
        "\n",
        "# select src tag\n",
        "image_src = [x['src'] for x in images]\n",
        "\n",
        "# select only jp format images\n",
        "image_src = [x for x in image_src if x.endswith('.jpg')]\n",
        "\n",
        "for image in image_src:\n",
        "    print(image)\n",
        "\n",
        "\n",
        "\n",
        "image_count = 1\n",
        "for image in image_src:\n",
        "    with open('image_'+str(image_count)+'.jpg', 'wb') as f:\n",
        "        res = requests.get(image)\n",
        "        f.write(res.content)\n",
        "    image_count = image_count+1\n"
      ],
      "execution_count": 2,
      "outputs": [
        {
          "output_type": "stream",
          "text": [
            "response.text: <HTML><HEAD>\n",
            "<TITLE>Access Denied</TITLE>\n",
            "</HEAD><BODY>\n",
            "<H1>Access Denied</H1>\n",
            " \n",
            "You don't have permission to access \"http&#58;&#47;&#47;www&#46;goibibo&#46;com&#47;hotels&#47;hotels&#45;in&#45;shimla&#45;ct&#47;\" on this server.<P>\n",
            "Reference&#32;&#35;18&#46;2f8d4017&#46;1591790383&#46;3916db0\n",
            "</BODY>\n",
            "</HTML>\n",
            "\n",
            "Number of Images:  0\n"
          ],
          "name": "stdout"
        }
      ]
    },
    {
      "cell_type": "code",
      "metadata": {
        "id": "vVYXDu1ZGPRW",
        "colab_type": "code",
        "colab": {}
      },
      "source": [
        ""
      ],
      "execution_count": 0,
      "outputs": []
    }
  ]
}