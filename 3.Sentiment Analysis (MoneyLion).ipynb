{
  "nbformat": 4,
  "nbformat_minor": 0,
  "metadata": {
    "colab": {
      "name": "Sentiment Analysis (MoneyLion).ipynb",
      "provenance": [],
      "collapsed_sections": [],
      "authorship_tag": "ABX9TyMh0QzqdEHykMfc+dRM6n21",
      "include_colab_link": true
    },
    "kernelspec": {
      "name": "python3",
      "display_name": "Python 3"
    }
  },
  "cells": [
    {
      "cell_type": "markdown",
      "metadata": {
        "id": "view-in-github",
        "colab_type": "text"
      },
      "source": [
        "<a href=\"https://colab.research.google.com/github/biranchi2018/My-WebScraping-Examples/blob/master/3.Sentiment%20Analysis%20(MoneyLion).ipynb\" target=\"_parent\"><img src=\"https://colab.research.google.com/assets/colab-badge.svg\" alt=\"Open In Colab\"/></a>"
      ]
    },
    {
      "cell_type": "code",
      "metadata": {
        "id": "eZabWWIu_F7j",
        "colab_type": "code",
        "colab": {
          "base_uri": "https://localhost:8080/",
          "height": 66
        },
        "outputId": "320f6e31-d839-4809-970e-c56c448f76b1"
      },
      "source": [
        "!pip install textblob"
      ],
      "execution_count": 1,
      "outputs": [
        {
          "output_type": "stream",
          "text": [
            "Requirement already satisfied: textblob in /usr/local/lib/python3.6/dist-packages (0.15.3)\n",
            "Requirement already satisfied: nltk>=3.1 in /usr/local/lib/python3.6/dist-packages (from textblob) (3.2.5)\n",
            "Requirement already satisfied: six in /usr/local/lib/python3.6/dist-packages (from nltk>=3.1->textblob) (1.12.0)\n"
          ],
          "name": "stdout"
        }
      ]
    },
    {
      "cell_type": "code",
      "metadata": {
        "id": "0OYRPa0P_M5A",
        "colab_type": "code",
        "colab": {}
      },
      "source": [
        "from bs4 import BeautifulSoup\n",
        "import requests\n",
        "from textblob import TextBlob\n",
        "import pandas as pd"
      ],
      "execution_count": 0,
      "outputs": []
    },
    {
      "cell_type": "code",
      "metadata": {
        "id": "rZhTAzQK_4v-",
        "colab_type": "code",
        "colab": {}
      },
      "source": [
        "pd.set_option('max_colwidth', 300)"
      ],
      "execution_count": 0,
      "outputs": []
    },
    {
      "cell_type": "code",
      "metadata": {
        "id": "u9mw-s8O_QhK",
        "colab_type": "code",
        "colab": {}
      },
      "source": [
        "url = \"https://www.moneylion.com/\""
      ],
      "execution_count": 0,
      "outputs": []
    },
    {
      "cell_type": "code",
      "metadata": {
        "id": "T7noVz1a_SIh",
        "colab_type": "code",
        "colab": {}
      },
      "source": [
        "html_code = requests.get(url, timeout = 5).text\n",
        "soup = BeautifulSoup(html_code, \"html.parser\")"
      ],
      "execution_count": 0,
      "outputs": []
    },
    {
      "cell_type": "code",
      "metadata": {
        "id": "5o_9vT6f_Ti5",
        "colab_type": "code",
        "colab": {}
      },
      "source": [
        "div = soup.find_all(class_=\"accolades-review-text\")"
      ],
      "execution_count": 0,
      "outputs": []
    },
    {
      "cell_type": "code",
      "metadata": {
        "id": "nXUDVXHo_VXx",
        "colab_type": "code",
        "colab": {}
      },
      "source": [
        "text = []\n",
        "\n",
        "for p in div:\n",
        "    text.append(p.getText().strip())"
      ],
      "execution_count": 0,
      "outputs": []
    },
    {
      "cell_type": "code",
      "metadata": {
        "id": "fXNKRurK_Xh4",
        "colab_type": "code",
        "colab": {
          "base_uri": "https://localhost:8080/",
          "height": 33
        },
        "outputId": "c1bc98aa-ca9b-4a9c-8e94-2a9858809e86"
      },
      "source": [
        "len(text)"
      ],
      "execution_count": 133,
      "outputs": [
        {
          "output_type": "execute_result",
          "data": {
            "text/plain": [
              "6"
            ]
          },
          "metadata": {
            "tags": []
          },
          "execution_count": 133
        }
      ]
    },
    {
      "cell_type": "code",
      "metadata": {
        "id": "Au9HvJ4j_ZCY",
        "colab_type": "code",
        "colab": {
          "base_uri": "https://localhost:8080/",
          "height": 135
        },
        "outputId": "1c77428a-6247-4a96-bb53-d315159194b5"
      },
      "source": [
        "text"
      ],
      "execution_count": 134,
      "outputs": [
        {
          "output_type": "execute_result",
          "data": {
            "text/plain": [
              "[\"I love this app. I'm going to switch from my credit union to MoneyLion. I've been evaluating it for a few months, and it's just better. I will probably keep some cash in my other bank so I can keep access to their other products, but MoneyLion is legit.\",\n",
              " 'MoneyLion has been such a wonderful experience. I really recommend anyone that need some quick extra cash to use MoneyLion.',\n",
              " 'I’ve had MoneyLion for years and honestly it’s the best one stop shop for all my financing needs with quick and easy loans, credit tracking and fast cash!',\n",
              " 'Great app!!! MoneyLion helped me out with everything I needed!! I give it 10 stars**********!!!',\n",
              " 'I have nothing but good experiences since I started using this app. all deposits received come in immediately in most cases and paychecks are deposited 2 days earlier than normal banks. Very happy and impressed this far. Thank you.',\n",
              " 'I love MoneyLion!! It is so helpful and the instacash is so nice!! Specially when you have a ruff week it comes in handy!!']"
            ]
          },
          "metadata": {
            "tags": []
          },
          "execution_count": 134
        }
      ]
    },
    {
      "cell_type": "code",
      "metadata": {
        "id": "V2byU9IL_agK",
        "colab_type": "code",
        "colab": {
          "base_uri": "https://localhost:8080/",
          "height": 252
        },
        "outputId": "4e94048f-21ec-4a40-f271-49444fb0c0a4"
      },
      "source": [
        "df = pd.DataFrame({'text': text})\n",
        "df"
      ],
      "execution_count": 135,
      "outputs": [
        {
          "output_type": "execute_result",
          "data": {
            "text/html": [
              "<div>\n",
              "<style scoped>\n",
              "    .dataframe tbody tr th:only-of-type {\n",
              "        vertical-align: middle;\n",
              "    }\n",
              "\n",
              "    .dataframe tbody tr th {\n",
              "        vertical-align: top;\n",
              "    }\n",
              "\n",
              "    .dataframe thead th {\n",
              "        text-align: right;\n",
              "    }\n",
              "</style>\n",
              "<table border=\"1\" class=\"dataframe\">\n",
              "  <thead>\n",
              "    <tr style=\"text-align: right;\">\n",
              "      <th></th>\n",
              "      <th>text</th>\n",
              "    </tr>\n",
              "  </thead>\n",
              "  <tbody>\n",
              "    <tr>\n",
              "      <th>0</th>\n",
              "      <td>I love this app. I'm going to switch from my credit union to MoneyLion. I've been evaluating it for a few months, and it's just better. I will probably keep some cash in my other bank so I can keep access to their other products, but MoneyLion is legit.</td>\n",
              "    </tr>\n",
              "    <tr>\n",
              "      <th>1</th>\n",
              "      <td>MoneyLion has been such a wonderful experience. I really recommend anyone that need some quick extra cash to use MoneyLion.</td>\n",
              "    </tr>\n",
              "    <tr>\n",
              "      <th>2</th>\n",
              "      <td>I’ve had MoneyLion for years and honestly it’s the best one stop shop for all my financing needs with quick and easy loans, credit tracking and fast cash!</td>\n",
              "    </tr>\n",
              "    <tr>\n",
              "      <th>3</th>\n",
              "      <td>Great app!!! MoneyLion helped me out with everything I needed!! I give it 10 stars**********!!!</td>\n",
              "    </tr>\n",
              "    <tr>\n",
              "      <th>4</th>\n",
              "      <td>I have nothing but good experiences since I started using this app. all deposits received come in immediately in most cases and paychecks are deposited 2 days earlier than normal banks. Very happy and impressed this far. Thank you.</td>\n",
              "    </tr>\n",
              "    <tr>\n",
              "      <th>5</th>\n",
              "      <td>I love MoneyLion!! It is so helpful and the instacash is so nice!! Specially when you have a ruff week it comes in handy!!</td>\n",
              "    </tr>\n",
              "  </tbody>\n",
              "</table>\n",
              "</div>"
            ],
            "text/plain": [
              "                                                                                                                                                                                                                                                            text\n",
              "0  I love this app. I'm going to switch from my credit union to MoneyLion. I've been evaluating it for a few months, and it's just better. I will probably keep some cash in my other bank so I can keep access to their other products, but MoneyLion is legit.\n",
              "1                                                                                                                                    MoneyLion has been such a wonderful experience. I really recommend anyone that need some quick extra cash to use MoneyLion.\n",
              "2                                                                                                     I’ve had MoneyLion for years and honestly it’s the best one stop shop for all my financing needs with quick and easy loans, credit tracking and fast cash!\n",
              "3                                                                                                                                                                Great app!!! MoneyLion helped me out with everything I needed!! I give it 10 stars**********!!!\n",
              "4                        I have nothing but good experiences since I started using this app. all deposits received come in immediately in most cases and paychecks are deposited 2 days earlier than normal banks. Very happy and impressed this far. Thank you.\n",
              "5                                                                                                                                     I love MoneyLion!! It is so helpful and the instacash is so nice!! Specially when you have a ruff week it comes in handy!!"
            ]
          },
          "metadata": {
            "tags": []
          },
          "execution_count": 135
        }
      ]
    },
    {
      "cell_type": "code",
      "metadata": {
        "id": "yquffJMb_cur",
        "colab_type": "code",
        "colab": {}
      },
      "source": [
        "polarity = lambda x: TextBlob(x).sentiment.polarity\n",
        "subjectivity = lambda x: TextBlob(x).sentiment.subjectivity"
      ],
      "execution_count": 0,
      "outputs": []
    },
    {
      "cell_type": "code",
      "metadata": {
        "id": "hcsofjor_epI",
        "colab_type": "code",
        "colab": {}
      },
      "source": [
        "df['polarity'] = df['text'].apply(polarity)\n",
        "df['subjectivity'] = df['text'].apply(subjectivity)"
      ],
      "execution_count": 0,
      "outputs": []
    },
    {
      "cell_type": "code",
      "metadata": {
        "id": "Hjk6N44U_gKn",
        "colab_type": "code",
        "colab": {
          "base_uri": "https://localhost:8080/",
          "height": 252
        },
        "outputId": "870e4d59-8202-4e15-d32e-91f296a24786"
      },
      "source": [
        "df"
      ],
      "execution_count": 138,
      "outputs": [
        {
          "output_type": "execute_result",
          "data": {
            "text/html": [
              "<div>\n",
              "<style scoped>\n",
              "    .dataframe tbody tr th:only-of-type {\n",
              "        vertical-align: middle;\n",
              "    }\n",
              "\n",
              "    .dataframe tbody tr th {\n",
              "        vertical-align: top;\n",
              "    }\n",
              "\n",
              "    .dataframe thead th {\n",
              "        text-align: right;\n",
              "    }\n",
              "</style>\n",
              "<table border=\"1\" class=\"dataframe\">\n",
              "  <thead>\n",
              "    <tr style=\"text-align: right;\">\n",
              "      <th></th>\n",
              "      <th>text</th>\n",
              "      <th>polarity</th>\n",
              "      <th>subjectivity</th>\n",
              "    </tr>\n",
              "  </thead>\n",
              "  <tbody>\n",
              "    <tr>\n",
              "      <th>0</th>\n",
              "      <td>I love this app. I'm going to switch from my credit union to MoneyLion. I've been evaluating it for a few months, and it's just better. I will probably keep some cash in my other bank so I can keep access to their other products, but MoneyLion is legit.</td>\n",
              "      <td>0.110000</td>\n",
              "      <td>0.390000</td>\n",
              "    </tr>\n",
              "    <tr>\n",
              "      <th>1</th>\n",
              "      <td>MoneyLion has been such a wonderful experience. I really recommend anyone that need some quick extra cash to use MoneyLion.</td>\n",
              "      <td>0.306667</td>\n",
              "      <td>0.460000</td>\n",
              "    </tr>\n",
              "    <tr>\n",
              "      <th>2</th>\n",
              "      <td>I’ve had MoneyLion for years and honestly it’s the best one stop shop for all my financing needs with quick and easy loans, credit tracking and fast cash!</td>\n",
              "      <td>0.523333</td>\n",
              "      <td>0.626667</td>\n",
              "    </tr>\n",
              "    <tr>\n",
              "      <th>3</th>\n",
              "      <td>Great app!!! MoneyLion helped me out with everything I needed!! I give it 10 stars**********!!!</td>\n",
              "      <td>1.000000</td>\n",
              "      <td>0.750000</td>\n",
              "    </tr>\n",
              "    <tr>\n",
              "      <th>4</th>\n",
              "      <td>I have nothing but good experiences since I started using this app. all deposits received come in immediately in most cases and paychecks are deposited 2 days earlier than normal banks. Very happy and impressed this far. Thank you.</td>\n",
              "      <td>0.492857</td>\n",
              "      <td>0.750000</td>\n",
              "    </tr>\n",
              "    <tr>\n",
              "      <th>5</th>\n",
              "      <td>I love MoneyLion!! It is so helpful and the instacash is so nice!! Specially when you have a ruff week it comes in handy!!</td>\n",
              "      <td>0.753348</td>\n",
              "      <td>0.767857</td>\n",
              "    </tr>\n",
              "  </tbody>\n",
              "</table>\n",
              "</div>"
            ],
            "text/plain": [
              "                                                                                                                                                                                                                                                            text  polarity  subjectivity\n",
              "0  I love this app. I'm going to switch from my credit union to MoneyLion. I've been evaluating it for a few months, and it's just better. I will probably keep some cash in my other bank so I can keep access to their other products, but MoneyLion is legit.  0.110000      0.390000\n",
              "1                                                                                                                                    MoneyLion has been such a wonderful experience. I really recommend anyone that need some quick extra cash to use MoneyLion.  0.306667      0.460000\n",
              "2                                                                                                     I’ve had MoneyLion for years and honestly it’s the best one stop shop for all my financing needs with quick and easy loans, credit tracking and fast cash!  0.523333      0.626667\n",
              "3                                                                                                                                                                Great app!!! MoneyLion helped me out with everything I needed!! I give it 10 stars**********!!!  1.000000      0.750000\n",
              "4                        I have nothing but good experiences since I started using this app. all deposits received come in immediately in most cases and paychecks are deposited 2 days earlier than normal banks. Very happy and impressed this far. Thank you.  0.492857      0.750000\n",
              "5                                                                                                                                     I love MoneyLion!! It is so helpful and the instacash is so nice!! Specially when you have a ruff week it comes in handy!!  0.753348      0.767857"
            ]
          },
          "metadata": {
            "tags": []
          },
          "execution_count": 138
        }
      ]
    },
    {
      "cell_type": "code",
      "metadata": {
        "id": "7nSeSh7I_hS3",
        "colab_type": "code",
        "colab": {}
      },
      "source": [
        ""
      ],
      "execution_count": 0,
      "outputs": []
    },
    {
      "cell_type": "code",
      "metadata": {
        "id": "m9b3mqIiBHhj",
        "colab_type": "code",
        "colab": {}
      },
      "source": [
        ""
      ],
      "execution_count": 0,
      "outputs": []
    },
    {
      "cell_type": "code",
      "metadata": {
        "id": "XzbWZaBlBHky",
        "colab_type": "code",
        "colab": {}
      },
      "source": [
        ""
      ],
      "execution_count": 0,
      "outputs": []
    }
  ]
}