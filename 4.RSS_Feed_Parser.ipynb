{
  "nbformat": 4,
  "nbformat_minor": 0,
  "metadata": {
    "colab": {
      "name": "4.RSS Feed Parser.ipynb",
      "provenance": [],
      "collapsed_sections": [],
      "authorship_tag": "ABX9TyOBjhwZon/KSJ67+vnnZGQa",
      "include_colab_link": true
    },
    "kernelspec": {
      "name": "python3",
      "display_name": "Python 3"
    }
  },
  "cells": [
    {
      "cell_type": "markdown",
      "metadata": {
        "id": "view-in-github",
        "colab_type": "text"
      },
      "source": [
        "<a href=\"https://colab.research.google.com/github/biranchi2018/My-WebScraping-Examples/blob/master/4.RSS_Feed_Parser.ipynb\" target=\"_parent\"><img src=\"https://colab.research.google.com/assets/colab-badge.svg\" alt=\"Open In Colab\"/></a>"
      ]
    },
    {
      "cell_type": "code",
      "metadata": {
        "id": "IwlEz0EozcUF",
        "colab_type": "code",
        "colab": {
          "base_uri": "https://localhost:8080/",
          "height": 180
        },
        "outputId": "f9d349ca-4998-4b99-bed4-f0d5826f2c2c"
      },
      "source": [
        "!pip install feedparser"
      ],
      "execution_count": 2,
      "outputs": [
        {
          "output_type": "stream",
          "text": [
            "Collecting feedparser\n",
            "\u001b[?25l  Downloading https://files.pythonhosted.org/packages/91/d8/7d37fec71ff7c9dbcdd80d2b48bcdd86d6af502156fc93846fb0102cb2c4/feedparser-5.2.1.tar.bz2 (192kB)\n",
            "\r\u001b[K     |█▊                              | 10kB 19.0MB/s eta 0:00:01\r\u001b[K     |███▍                            | 20kB 1.6MB/s eta 0:00:01\r\u001b[K     |█████▏                          | 30kB 2.2MB/s eta 0:00:01\r\u001b[K     |██████▉                         | 40kB 2.5MB/s eta 0:00:01\r\u001b[K     |████████▌                       | 51kB 1.9MB/s eta 0:00:01\r\u001b[K     |██████████▎                     | 61kB 2.1MB/s eta 0:00:01\r\u001b[K     |████████████                    | 71kB 2.4MB/s eta 0:00:01\r\u001b[K     |█████████████▋                  | 81kB 2.6MB/s eta 0:00:01\r\u001b[K     |███████████████▍                | 92kB 2.8MB/s eta 0:00:01\r\u001b[K     |█████████████████               | 102kB 2.7MB/s eta 0:00:01\r\u001b[K     |██████████████████▊             | 112kB 2.7MB/s eta 0:00:01\r\u001b[K     |████████████████████▌           | 122kB 2.7MB/s eta 0:00:01\r\u001b[K     |██████████████████████▏         | 133kB 2.7MB/s eta 0:00:01\r\u001b[K     |███████████████████████▉        | 143kB 2.7MB/s eta 0:00:01\r\u001b[K     |█████████████████████████▋      | 153kB 2.7MB/s eta 0:00:01\r\u001b[K     |███████████████████████████▎    | 163kB 2.7MB/s eta 0:00:01\r\u001b[K     |█████████████████████████████   | 174kB 2.7MB/s eta 0:00:01\r\u001b[K     |██████████████████████████████▊ | 184kB 2.7MB/s eta 0:00:01\r\u001b[K     |████████████████████████████████| 194kB 2.7MB/s \n",
            "\u001b[?25hBuilding wheels for collected packages: feedparser\n",
            "  Building wheel for feedparser (setup.py) ... \u001b[?25l\u001b[?25hdone\n",
            "  Created wheel for feedparser: filename=feedparser-5.2.1-cp36-none-any.whl size=44940 sha256=2d5f713504487041f1d4f8e3622a5f908f6ad60ed525e5f7047d43f31a40309e\n",
            "  Stored in directory: /root/.cache/pip/wheels/8c/69/b7/f52763c41c5471df57703a0ef718a32a5e81ee35dcf6d4f97f\n",
            "Successfully built feedparser\n",
            "Installing collected packages: feedparser\n",
            "Successfully installed feedparser-5.2.1\n"
          ],
          "name": "stdout"
        }
      ]
    },
    {
      "cell_type": "code",
      "metadata": {
        "id": "AOJyXy6azc7W",
        "colab_type": "code",
        "colab": {
          "base_uri": "https://localhost:8080/",
          "height": 1000
        },
        "outputId": "67b1128f-5c2b-4034-a60f-2f109933f2f2"
      },
      "source": [
        "import feedparser\n",
        "from pprint import pprint\n",
        "from bs4 import BeautifulSoup\n",
        "\n",
        "url = \"http://news.google.com/news?q=covid-19&hl=en-US&sort=date&gl=US&num=100&output=rss\"\n",
        "\n",
        "\n",
        "class ParseFeed():\n",
        "\n",
        "    def __init__(self, url):\n",
        "        self.feed_url = url\n",
        "        \n",
        "    def clean(self, html):\n",
        "        '''\n",
        "        Get the text from html and do some cleaning\n",
        "        '''\n",
        "        soup = BeautifulSoup(html, features=\"lxml\")\n",
        "        text = soup.get_text()\n",
        "        text = text.replace('\\xa0', ' ')\n",
        "        text = text.replace('\\n', '')\n",
        "        return text\n",
        "\n",
        "    def parse(self):\n",
        "        '''\n",
        "        Parse the URL, and print all the details of the news \n",
        "        '''\n",
        "        feeds = feedparser.parse(self.feed_url).entries\n",
        "        for f in feeds[:10]:\n",
        "            pprint({\n",
        "                'Description': self.clean(f.get(\"description\", \"\")),\n",
        "                'Published Date': f.get(\"published\", \"\"),\n",
        "                'Title': f.get(\"title\", \"\"),\n",
        "                'Url': f.get(\"link\", \"\")\n",
        "            })\n",
        "            print()\n",
        "            print(\"=\"*150)\n",
        "            print()\n",
        "            \n",
        "feed = ParseFeed(url)\n",
        "feed.parse()"
      ],
      "execution_count": 10,
      "outputs": [
        {
          "output_type": "stream",
          "text": [
            "{'Description': 'Live updates: Mask rules face pushback as coronavirus '\n",
            "                'infections surge  The Washington Post',\n",
            " 'Published Date': 'Fri, 19 Jun 2020 08:54:00 GMT',\n",
            " 'Title': 'Live updates: Mask rules face pushback as coronavirus infections '\n",
            "          'surge - The Washington Post',\n",
            " 'Url': 'https://www.washingtonpost.com/nation/2020/06/19/coronavirus-live-updates-us/'}\n",
            "\n",
            "======================================================================================================================================================\n",
            "\n",
            "{'Description': 'COVID-19 Scan for Jun 18, 2020 | CIDRAP  CIDRAP',\n",
            " 'Published Date': 'Thu, 18 Jun 2020 20:24:19 GMT',\n",
            " 'Title': 'COVID-19 Scan for Jun 18, 2020 | CIDRAP - CIDRAP',\n",
            " 'Url': 'https://www.cidrap.umn.edu/news-perspective/2020/06/covid-19-scan-jun-18-2020'}\n",
            "\n",
            "======================================================================================================================================================\n",
            "\n",
            "{'Description': 'COVID-19 ward in Houston at 65% capacity has director fears '\n",
            "                'overwhelming spike yet to come  KPRC Click2Houston',\n",
            " 'Published Date': 'Fri, 19 Jun 2020 04:45:41 GMT',\n",
            " 'Title': 'COVID-19 ward in Houston at 65% capacity has director fears '\n",
            "          'overwhelming spike yet to come - KPRC Click2Houston',\n",
            " 'Url': 'https://www.click2houston.com/health/2020/06/19/covid-19-ward-in-houston-at-65-capacity-has-director-fears-overwhelming-spike-yet-to-come/'}\n",
            "\n",
            "======================================================================================================================================================\n",
            "\n",
            "{'Description': 'India Reports Record Spike In COVID-19 Cases, But Nixes '\n",
            "                'Another Nationwide Lockdown  NPR',\n",
            " 'Published Date': 'Thu, 18 Jun 2020 17:47:54 GMT',\n",
            " 'Title': 'India Reports Record Spike In COVID-19 Cases, But Nixes Another '\n",
            "          'Nationwide Lockdown - NPR',\n",
            " 'Url': 'https://www.npr.org/sections/coronavirus-live-updates/2020/06/18/879927134/india-reports-record-spike-in-covid-19-cases-but-nixes-another-nationwide-lockdo'}\n",
            "\n",
            "======================================================================================================================================================\n",
            "\n",
            "{'Description': 'Blood plasma from people who recovered is a safe covid-19 '\n",
            "                'treatment, study says  The Washington Post',\n",
            " 'Published Date': 'Thu, 18 Jun 2020 20:58:16 GMT',\n",
            " 'Title': 'Blood plasma from people who recovered is a safe covid-19 '\n",
            "          'treatment, study says - The Washington Post',\n",
            " 'Url': 'https://www.washingtonpost.com/health/2020/06/18/blood-plasma-people-who-recovered-is-safe-covid-19-treatment-study-says/'}\n",
            "\n",
            "======================================================================================================================================================\n",
            "\n",
            "{'Description': 'Japan rolls out Microsoft-developed COVID-19 contact tracing '\n",
            "                'app  The Verge',\n",
            " 'Published Date': 'Fri, 19 Jun 2020 07:01:47 GMT',\n",
            " 'Title': 'Japan rolls out Microsoft-developed COVID-19 contact tracing app - '\n",
            "          'The Verge',\n",
            " 'Url': 'https://www.theverge.com/2020/6/19/21296603/japan-covid-19-contact-tracking-app-cocoa-released'}\n",
            "\n",
            "======================================================================================================================================================\n",
            "\n",
            "{'Description': \"Trump's dismissiveness could prolong Covid-19 pandemic, \"\n",
            "                'experts warn  STAT',\n",
            " 'Published Date': 'Thu, 18 Jun 2020 20:03:12 GMT',\n",
            " 'Title': \"Trump's dismissiveness could prolong Covid-19 pandemic, experts \"\n",
            "          'warn - STAT',\n",
            " 'Url': 'https://www.statnews.com/2020/06/18/trump-dismissiveness-prolong-covid-19/'}\n",
            "\n",
            "======================================================================================================================================================\n",
            "\n",
            "{'Description': \"Coronavirus: COVID-19 trends 'worrisome' in SW Ohio, DeWine \"\n",
            "                'says  The Cincinnati Enquirer',\n",
            " 'Published Date': 'Fri, 19 Jun 2020 00:23:46 GMT',\n",
            " 'Title': \"Coronavirus: COVID-19 trends 'worrisome' in SW Ohio, DeWine says - \"\n",
            "          'The Cincinnati Enquirer',\n",
            " 'Url': 'https://www.cincinnati.com/story/news/2020/06/18/coronavirus-ohio-governor-mike-dewine-state-covid-19-response/3190556001/'}\n",
            "\n",
            "======================================================================================================================================================\n",
            "\n",
            "{'Description': '‘Very likely’ Washington schools will reopen before COVID-19 '\n",
            "                'vaccine is released  KING5.com',\n",
            " 'Published Date': 'Thu, 18 Jun 2020 16:21:00 GMT',\n",
            " 'Title': '‘Very likely’ Washington schools will reopen before COVID-19 '\n",
            "          'vaccine is released - KING5.com',\n",
            " 'Url': 'https://www.king5.com/article/news/health/coronavirus/washington-second-wave-coronavirus-schools/281-974330d5-8057-4d2b-874c-4cac7fd6fc94'}\n",
            "\n",
            "======================================================================================================================================================\n",
            "\n",
            "{'Description': 'Manatee County ZIP Code now a COVID-19 red zone  WFLA',\n",
            " 'Published Date': 'Thu, 18 Jun 2020 23:25:00 GMT',\n",
            " 'Title': 'Manatee County ZIP Code now a COVID-19 red zone - WFLA',\n",
            " 'Url': 'https://www.wfla.com/community/health/coronavirus/manatee-county-zip-code-now-a-covid-19-red-zone/'}\n",
            "\n",
            "======================================================================================================================================================\n",
            "\n"
          ],
          "name": "stdout"
        }
      ]
    },
    {
      "cell_type": "code",
      "metadata": {
        "id": "t4UCmh9nzeyf",
        "colab_type": "code",
        "colab": {}
      },
      "source": [
        ""
      ],
      "execution_count": null,
      "outputs": []
    }
  ]
}