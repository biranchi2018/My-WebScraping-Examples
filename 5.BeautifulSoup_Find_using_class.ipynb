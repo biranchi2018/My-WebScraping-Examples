{
  "nbformat": 4,
  "nbformat_minor": 0,
  "metadata": {
    "colab": {
      "name": "5.BeautifulSoup Find using class.ipynb",
      "provenance": [],
      "collapsed_sections": [],
      "authorship_tag": "ABX9TyM25IZY/7Y+HqZMOquAvX27",
      "include_colab_link": true
    },
    "kernelspec": {
      "name": "python3",
      "display_name": "Python 3"
    }
  },
  "cells": [
    {
      "cell_type": "markdown",
      "metadata": {
        "id": "view-in-github",
        "colab_type": "text"
      },
      "source": [
        "<a href=\"https://colab.research.google.com/github/biranchi2018/My-WebScraping-Examples/blob/master/5.BeautifulSoup_Find_using_class.ipynb\" target=\"_parent\"><img src=\"https://colab.research.google.com/assets/colab-badge.svg\" alt=\"Open In Colab\"/></a>"
      ]
    },
    {
      "cell_type": "code",
      "metadata": {
        "id": "TbfBp6COGn6G",
        "colab_type": "code",
        "colab": {}
      },
      "source": [
        "from bs4 import BeautifulSoup"
      ],
      "execution_count": null,
      "outputs": []
    },
    {
      "cell_type": "code",
      "metadata": {
        "id": "mbMwvY-pGsfp",
        "colab_type": "code",
        "colab": {}
      },
      "source": [
        "div = '<h6 class=\"my-0 px-2 text-light py-1 text-truncate\" title=\"TEST\" style=\"background-color: rgb(48, 54, 60); \\\n",
        "      --darkreader-inline-bgcolor:#2b3033;\" data-darkreader-inline-bgcolor=\"\">TEST</h6>'"
      ],
      "execution_count": null,
      "outputs": []
    },
    {
      "cell_type": "code",
      "metadata": {
        "id": "tEmhfwmoG_dR",
        "colab_type": "code",
        "colab": {}
      },
      "source": [
        "soup = BeautifulSoup(div)"
      ],
      "execution_count": null,
      "outputs": []
    },
    {
      "cell_type": "code",
      "metadata": {
        "id": "95RLa1o-Gw0c",
        "colab_type": "code",
        "colab": {
          "base_uri": "https://localhost:8080/",
          "height": 33
        },
        "outputId": "a98f49e2-d314-4d47-dc1c-8117ac7c2f82"
      },
      "source": [
        "result = soup.find('h6',{'class':'my-0 px-2 text-light py-1 text-truncate'})\n",
        "print(result.text)"
      ],
      "execution_count": null,
      "outputs": [
        {
          "output_type": "stream",
          "text": [
            "TEST\n"
          ],
          "name": "stdout"
        }
      ]
    },
    {
      "cell_type": "code",
      "metadata": {
        "id": "vtXDTzDsG-Iz",
        "colab_type": "code",
        "colab": {}
      },
      "source": [
        ""
      ],
      "execution_count": null,
      "outputs": []
    }
  ]
}